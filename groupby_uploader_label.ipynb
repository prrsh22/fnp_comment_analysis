{
 "cells": [
  {
   "cell_type": "code",
   "execution_count": null,
   "metadata": {},
   "outputs": [],
   "source": [
    "import pandas as pd\n",
    "\n",
    "df = pd.read_excel('data/yt_comments.xlsx')\n",
    "\n",
    "pos = len(df.loc[df['label'] == 'Positive'])\n",
    "neg = len(df.loc[df['label'] == 'Negative'])\n",
    "neu = len(df.loc[df['label'] == 'Neutral'])"
   ]
  },
  {
   "cell_type": "code",
   "execution_count": null,
   "metadata": {},
   "outputs": [],
   "source": [
    "df_vids = df.groupby(['vid_uploader', 'label']).size().reset_index(name='counts')\n",
    "df_vids.to_excel('data/yt_comments_groupby_uploader_label.xlsx', index=False)\n",
    "\n",
    "# 뉴스의 경우, column vid_uploader --> news_uploader"
   ]
  }
 ],
 "metadata": {
  "kernelspec": {
   "display_name": "Python 3",
   "language": "python",
   "name": "python3"
  },
  "language_info": {
   "codemirror_mode": {
    "name": "ipython",
    "version": 3
   },
   "file_extension": ".py",
   "mimetype": "text/x-python",
   "name": "python",
   "nbconvert_exporter": "python",
   "pygments_lexer": "ipython3",
   "version": "3.7.6"
  },
  "pycharm": {
   "stem_cell": {
    "cell_type": "raw",
    "metadata": {
     "collapsed": false
    },
    "source": []
   }
  }
 },
 "nbformat": 4,
 "nbformat_minor": 4
}

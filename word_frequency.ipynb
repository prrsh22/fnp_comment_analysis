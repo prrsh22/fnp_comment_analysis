{
 "cells": [
  {
   "cell_type": "code",
   "execution_count": null,
   "metadata": {},
   "outputs": [],
   "source": [
    "import matplotlib.pyplot as plt\n",
    "from wordcloud import WordCloud\n",
    "import pandas as pd\n",
    "\n",
    "df = pd.read_excel('불러올 파일 경로')"
   ]
  },
  {
   "cell_type": "code",
   "execution_count": null,
   "metadata": {},
   "outputs": [],
   "source": [
    "import ast\n",
    "\n",
    "full_tokens = []\n",
    "\n",
    "for i in range(len(df)):\n",
    "    # score < 0인 댓글만 수집하려는 경우\n",
    "    if (df.loc[i, 'score'] > -1):\n",
    "        continue\n",
    "        \n",
    "    tokens = ast.literal_eval(df.loc[i, 'tokenized'])\n",
    "    full_tokens += tokens\n",
    "\n",
    "full_text = ''\n",
    "\n",
    "for token in full_tokens:\n",
    "    full_text = full_text + ' ' + token"
   ]
  },
  {
   "cell_type": "code",
   "execution_count": null,
   "metadata": {
    "scrolled": true
   },
   "outputs": [],
   "source": [
    "wc_full = WordCloud(font_path='폰트경로', background_color = 'white').generate(full_text)\n",
    "plt.figure(figsize=(12,12))\n",
    "plt.imshow(wc_full, interpolation='bilinear')\n",
    "plt.axis('off')\n",
    "plt.show()"
   ]
  },
  {
   "cell_type": "code",
   "execution_count": null,
   "metadata": {},
   "outputs": [],
   "source": [
    "frequency = {}\n",
    "\n",
    "for token in full_tokens:\n",
    "    \n",
    "    try:\n",
    "        frequency[token] += 1\n",
    "    except KeyError:\n",
    "        frequency[token] = 1\n",
    "        \n",
    "frequency = {k: v for k, v in sorted(frequency.items(), key=lambda item: item[1], reverse=True)}"
   ]
  },
  {
   "cell_type": "code",
   "execution_count": null,
   "metadata": {},
   "outputs": [],
   "source": [
    "frequency_top_20 = {}\n",
    "\n",
    "for token in frequency.keys():\n",
    "    if len(frequency_top_20.keys()) == 20:\n",
    "        break\n",
    "    else:\n",
    "        frequency_top_20[token] = frequency[token]\n",
    "\n",
    "frequency_top_20 = {k: v for k, v in sorted(frequency_top_20.items(), key=lambda item: item[1], reverse=True)}"
   ]
  },
  {
   "cell_type": "code",
   "execution_count": null,
   "metadata": {},
   "outputs": [],
   "source": [
    "to_df = {\n",
    "    'token': list(frequency_top_20.keys()),\n",
    "    'count': list(frequency_top_20.values())\n",
    "}\n",
    "\n",
    "count_df = pd.DataFrame.from_dict(to_df) \n",
    "\n",
    "count_df.to_excel('내보낼 경로', index = False)"
   ]
  }
 ],
 "metadata": {
  "kernelspec": {
   "display_name": "Python 3",
   "language": "python",
   "name": "python3"
  },
  "language_info": {
   "codemirror_mode": {
    "name": "ipython",
    "version": 3
   },
   "file_extension": ".py",
   "mimetype": "text/x-python",
   "name": "python",
   "nbconvert_exporter": "python",
   "pygments_lexer": "ipython3",
   "version": "3.7.6"
  },
  "pycharm": {
   "stem_cell": {
    "cell_type": "raw",
    "metadata": {
     "collapsed": false
    },
    "source": []
   }
  }
 },
 "nbformat": 4,
 "nbformat_minor": 4
}
